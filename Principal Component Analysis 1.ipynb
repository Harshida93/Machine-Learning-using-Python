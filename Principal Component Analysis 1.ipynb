{
 "cells": [
  {
   "cell_type": "code",
   "execution_count": 1,
   "metadata": {},
   "outputs": [],
   "source": [
    "import pandas as pd"
   ]
  },
  {
   "cell_type": "code",
   "execution_count": 2,
   "metadata": {},
   "outputs": [],
   "source": [
    "data=pd.read_csv('Data.csv')"
   ]
  },
  {
   "cell_type": "code",
   "execution_count": 3,
   "metadata": {},
   "outputs": [],
   "source": [
    "X=data.drop(['gnd'],axis=1)"
   ]
  },
  {
   "cell_type": "code",
   "execution_count": 4,
   "metadata": {},
   "outputs": [],
   "source": [
    "y=data['gnd']"
   ]
  },
  {
   "cell_type": "code",
   "execution_count": 5,
   "metadata": {},
   "outputs": [],
   "source": [
    "from sklearn.feature_selection import VarianceThreshold"
   ]
  },
  {
   "cell_type": "code",
   "execution_count": 6,
   "metadata": {},
   "outputs": [],
   "source": [
    "Variance=VarianceThreshold(0.4)"
   ]
  },
  {
   "cell_type": "code",
   "execution_count": 7,
   "metadata": {},
   "outputs": [],
   "source": [
    "High_variance=Variance.fit_transform(X)"
   ]
  },
  {
   "cell_type": "code",
   "execution_count": 8,
   "metadata": {},
   "outputs": [
    {
     "data": {
      "text/plain": [
       "array([[ 1.      ,  0.537992,  0.294486,  0.015796,  0.511609, -0.166338,\n",
       "        -0.92092 ,  0.186746,  0.241829, -0.993442, -0.981236, -0.999608,\n",
       "        -0.999391, -0.999959, -0.999994, -0.999997, -1.      , -0.693973,\n",
       "        -0.390585, -1.      , -1.      , -0.641419,  0.336534, -0.577477,\n",
       "        -0.999994, -0.999951, -0.91961 , -0.464698,  0.380516,  0.253031,\n",
       "        -0.628203, -0.972094, -0.999206, -0.996188, -0.701821, -0.083196,\n",
       "         0.322024, -0.506562, -0.899705, -0.967047, -0.923094, -0.582717,\n",
       "        -0.14346 ,  0.405317, -0.050328, -0.430388,  0.195612,  0.505857,\n",
       "         0.368924,  0.320216],\n",
       "       [ 2.      ,  0.166035,  0.792276,  0.293105,  0.484311,  0.875532,\n",
       "        -0.293676,  0.413152,  0.618632, -0.589942, -0.949252, -0.728933,\n",
       "        -0.976592, -0.815808, -0.982435, -0.824331, -0.961688,  0.019159,\n",
       "         0.126844, -0.585534, -0.70045 ,  0.047216, -0.721259,  0.070996,\n",
       "         0.088509,  0.04715 ,  0.694876, -0.009094, -0.752983, -0.781604,\n",
       "        -0.077271,  0.69875 ,  0.400656,  0.484684,  0.624706, -0.244004,\n",
       "        -0.867489, -0.305601,  0.552684,  0.005738,  0.262175,  0.796826,\n",
       "         0.345453, -0.523125, -0.599433,  0.186843,  0.518896, -0.221164,\n",
       "        -0.422491,  0.192044],\n",
       "       [ 3.      ,  0.613838,  0.78393 , -0.05478 ,  0.950433,  0.97091 ,\n",
       "         0.861389,  0.546542,  0.93666 ,  0.321271,  0.228648, -0.493777,\n",
       "        -0.521146, -0.914104, -0.886418, -0.993632, -0.949316,  0.620609,\n",
       "         0.487498, -0.994758, -0.906574,  0.347349,  0.76109 ,  0.586487,\n",
       "        -0.968789, -0.761241,  0.728123,  0.042032, -0.709348,  0.520753,\n",
       "         0.705487,  0.099035, -0.739056, -0.369211,  0.525867, -0.325846,\n",
       "         0.03147 ,  0.626816,  0.506164, -0.033222,  0.324633,  0.842856,\n",
       "         0.311613, -0.580125,  0.199657,  0.624014,  0.713256,  0.05125 ,\n",
       "         0.110328,  0.541402],\n",
       "       [ 4.      , -0.984852, -0.80062 , -0.927408, -0.945566, -0.611553,\n",
       "         0.795796, -0.885091, -0.822636,  0.85449 ,  0.772173,  0.685132,\n",
       "         0.263751,  0.310675, -0.337092, -0.190211, -0.72574 , -0.618151,\n",
       "        -0.462096, -0.614819, -0.905032, -0.461246, -0.870163, -0.296469,\n",
       "        -0.806475, -0.957124,  0.507159, -0.306935, -0.87312 , -0.877183,\n",
       "        -0.309259,  0.595213, -0.871339, -0.943178,  0.538558, -0.297738,\n",
       "        -0.914255, -0.411015,  0.521749, -0.812257, -0.72556 ,  0.544515,\n",
       "         0.510231, -0.398164, -0.583682,  0.302478,  0.749417,  0.376856,\n",
       "        -0.161113,  0.451871],\n",
       "       [ 5.      , -0.886214, -0.360784, -0.883866, -0.775522, -0.106894,\n",
       "        -0.419718, -0.759592, -0.685957, -0.548432, -0.572617, -0.606788,\n",
       "        -0.66797 , -0.649706, -0.705895, -0.680212, -0.711909, -0.972708,\n",
       "        -0.97115 , -0.678385, -0.67699 , -0.976746, -0.999642, -0.97263 ,\n",
       "        -0.642806, -0.614814, -0.726634, -0.982372, -0.999796, -0.999726,\n",
       "        -0.977208, -0.654249, -0.577829, -0.505149, -0.800083, -0.987723,\n",
       "        -0.999795, -0.98226 , -0.72286 , -0.378356, -0.264872, -0.349981,\n",
       "        -0.878587, -0.993249, -0.989981, -0.832672, -0.54934 , -0.94942 ,\n",
       "        -0.943469, -0.586251]])"
      ]
     },
     "execution_count": 8,
     "metadata": {},
     "output_type": "execute_result"
    }
   ],
   "source": [
    "High_variance[0:5]"
   ]
  },
  {
   "cell_type": "code",
   "execution_count": 9,
   "metadata": {},
   "outputs": [
    {
     "data": {
      "text/plain": [
       "Index(['Unnamed: 0', 'fea.53', 'fea.54', 'fea.60', 'fea.69', 'fea.70',\n",
       "       'fea.72', 'fea.76', 'fea.85', 'fea.88', 'fea.89', 'fea.104', 'fea.105',\n",
       "       'fea.120', 'fea.121', 'fea.136', 'fea.137', 'fea.141', 'fea.148',\n",
       "       'fea.152', 'fea.153', 'fea.157', 'fea.163', 'fea.164', 'fea.168',\n",
       "       'fea.169', 'fea.172', 'fea.173', 'fea.174', 'fea.179', 'fea.180',\n",
       "       'fea.181', 'fea.184', 'fea.185', 'fea.188', 'fea.189', 'fea.195',\n",
       "       'fea.196', 'fea.197', 'fea.200', 'fea.201', 'fea.203', 'fea.204',\n",
       "       'fea.205', 'fea.212', 'fea.213', 'fea.219', 'fea.220', 'fea.229',\n",
       "       'fea.230'],\n",
       "      dtype='object')"
      ]
     },
     "execution_count": 9,
     "metadata": {},
     "output_type": "execute_result"
    }
   ],
   "source": [
    "X.columns[Variance.get_support()] #neglected features"
   ]
  },
  {
   "cell_type": "code",
   "execution_count": 10,
   "metadata": {},
   "outputs": [],
   "source": [
    "best_features=[i for i in X.columns if i not  in X.columns[Variance.get_support()]]"
   ]
  },
  {
   "cell_type": "code",
   "execution_count": 11,
   "metadata": {},
   "outputs": [
    {
     "data": {
      "text/plain": [
       "['fea.1',\n",
       " 'fea.2',\n",
       " 'fea.3',\n",
       " 'fea.4',\n",
       " 'fea.5',\n",
       " 'fea.6',\n",
       " 'fea.7',\n",
       " 'fea.8',\n",
       " 'fea.9',\n",
       " 'fea.10',\n",
       " 'fea.11',\n",
       " 'fea.12',\n",
       " 'fea.13',\n",
       " 'fea.14',\n",
       " 'fea.15',\n",
       " 'fea.16',\n",
       " 'fea.17',\n",
       " 'fea.18',\n",
       " 'fea.19',\n",
       " 'fea.20',\n",
       " 'fea.21',\n",
       " 'fea.22',\n",
       " 'fea.23',\n",
       " 'fea.24',\n",
       " 'fea.25',\n",
       " 'fea.26',\n",
       " 'fea.27',\n",
       " 'fea.28',\n",
       " 'fea.29',\n",
       " 'fea.30',\n",
       " 'fea.31',\n",
       " 'fea.32',\n",
       " 'fea.33',\n",
       " 'fea.34',\n",
       " 'fea.35',\n",
       " 'fea.36',\n",
       " 'fea.37',\n",
       " 'fea.38',\n",
       " 'fea.39',\n",
       " 'fea.40',\n",
       " 'fea.41',\n",
       " 'fea.42',\n",
       " 'fea.43',\n",
       " 'fea.44',\n",
       " 'fea.45',\n",
       " 'fea.46',\n",
       " 'fea.47',\n",
       " 'fea.48',\n",
       " 'fea.49',\n",
       " 'fea.50',\n",
       " 'fea.51',\n",
       " 'fea.52',\n",
       " 'fea.55',\n",
       " 'fea.56',\n",
       " 'fea.57',\n",
       " 'fea.58',\n",
       " 'fea.59',\n",
       " 'fea.61',\n",
       " 'fea.62',\n",
       " 'fea.63',\n",
       " 'fea.64',\n",
       " 'fea.65',\n",
       " 'fea.66',\n",
       " 'fea.67',\n",
       " 'fea.68',\n",
       " 'fea.71',\n",
       " 'fea.73',\n",
       " 'fea.74',\n",
       " 'fea.75',\n",
       " 'fea.77',\n",
       " 'fea.78',\n",
       " 'fea.79',\n",
       " 'fea.80',\n",
       " 'fea.81',\n",
       " 'fea.82',\n",
       " 'fea.83',\n",
       " 'fea.84',\n",
       " 'fea.86',\n",
       " 'fea.87',\n",
       " 'fea.90',\n",
       " 'fea.91',\n",
       " 'fea.92',\n",
       " 'fea.93',\n",
       " 'fea.94',\n",
       " 'fea.95',\n",
       " 'fea.96',\n",
       " 'fea.97',\n",
       " 'fea.98',\n",
       " 'fea.99',\n",
       " 'fea.100',\n",
       " 'fea.101',\n",
       " 'fea.102',\n",
       " 'fea.103',\n",
       " 'fea.106',\n",
       " 'fea.107',\n",
       " 'fea.108',\n",
       " 'fea.109',\n",
       " 'fea.110',\n",
       " 'fea.111',\n",
       " 'fea.112',\n",
       " 'fea.113',\n",
       " 'fea.114',\n",
       " 'fea.115',\n",
       " 'fea.116',\n",
       " 'fea.117',\n",
       " 'fea.118',\n",
       " 'fea.119',\n",
       " 'fea.122',\n",
       " 'fea.123',\n",
       " 'fea.124',\n",
       " 'fea.125',\n",
       " 'fea.126',\n",
       " 'fea.127',\n",
       " 'fea.128',\n",
       " 'fea.129',\n",
       " 'fea.130',\n",
       " 'fea.131',\n",
       " 'fea.132',\n",
       " 'fea.133',\n",
       " 'fea.134',\n",
       " 'fea.135',\n",
       " 'fea.138',\n",
       " 'fea.139',\n",
       " 'fea.140',\n",
       " 'fea.142',\n",
       " 'fea.143',\n",
       " 'fea.144',\n",
       " 'fea.145',\n",
       " 'fea.146',\n",
       " 'fea.147',\n",
       " 'fea.149',\n",
       " 'fea.150',\n",
       " 'fea.151',\n",
       " 'fea.154',\n",
       " 'fea.155',\n",
       " 'fea.156',\n",
       " 'fea.158',\n",
       " 'fea.159',\n",
       " 'fea.160',\n",
       " 'fea.161',\n",
       " 'fea.162',\n",
       " 'fea.165',\n",
       " 'fea.166',\n",
       " 'fea.167',\n",
       " 'fea.170',\n",
       " 'fea.171',\n",
       " 'fea.175',\n",
       " 'fea.176',\n",
       " 'fea.177',\n",
       " 'fea.178',\n",
       " 'fea.182',\n",
       " 'fea.183',\n",
       " 'fea.186',\n",
       " 'fea.187',\n",
       " 'fea.190',\n",
       " 'fea.191',\n",
       " 'fea.192',\n",
       " 'fea.193',\n",
       " 'fea.194',\n",
       " 'fea.198',\n",
       " 'fea.199',\n",
       " 'fea.202',\n",
       " 'fea.206',\n",
       " 'fea.207',\n",
       " 'fea.208',\n",
       " 'fea.209',\n",
       " 'fea.210',\n",
       " 'fea.211',\n",
       " 'fea.214',\n",
       " 'fea.215',\n",
       " 'fea.216',\n",
       " 'fea.217',\n",
       " 'fea.218',\n",
       " 'fea.221',\n",
       " 'fea.222',\n",
       " 'fea.223',\n",
       " 'fea.224',\n",
       " 'fea.225',\n",
       " 'fea.226',\n",
       " 'fea.227',\n",
       " 'fea.228',\n",
       " 'fea.231',\n",
       " 'fea.232',\n",
       " 'fea.233',\n",
       " 'fea.234',\n",
       " 'fea.235',\n",
       " 'fea.236',\n",
       " 'fea.237',\n",
       " 'fea.238',\n",
       " 'fea.239',\n",
       " 'fea.240',\n",
       " 'fea.241',\n",
       " 'fea.242',\n",
       " 'fea.243',\n",
       " 'fea.244',\n",
       " 'fea.245',\n",
       " 'fea.246',\n",
       " 'fea.247',\n",
       " 'fea.248',\n",
       " 'fea.249',\n",
       " 'fea.250',\n",
       " 'fea.251',\n",
       " 'fea.252',\n",
       " 'fea.253',\n",
       " 'fea.254',\n",
       " 'fea.255',\n",
       " 'fea.256']"
      ]
     },
     "execution_count": 11,
     "metadata": {},
     "output_type": "execute_result"
    }
   ],
   "source": [
    "best_features"
   ]
  },
  {
   "cell_type": "code",
   "execution_count": 12,
   "metadata": {},
   "outputs": [],
   "source": [
    "from sklearn.model_selection import train_test_split"
   ]
  },
  {
   "cell_type": "code",
   "execution_count": 13,
   "metadata": {},
   "outputs": [],
   "source": [
    "X_train,X_test,y_train,y_test=train_test_split(X,y,test_size=0.3,random_state=42)\n",
    "best_fit=Variance.fit_transform(X_train,y_train)"
   ]
  },
  {
   "cell_type": "code",
   "execution_count": 14,
   "metadata": {},
   "outputs": [],
   "source": [
    "X_selected_features=Variance.transform(X_train)\n",
    "X_test_selected=Variance.transform(X_test)"
   ]
  },
  {
   "cell_type": "code",
   "execution_count": 15,
   "metadata": {},
   "outputs": [],
   "source": [
    "from sklearn.linear_model import LinearRegression"
   ]
  },
  {
   "cell_type": "code",
   "execution_count": 16,
   "metadata": {},
   "outputs": [
    {
     "data": {
      "text/plain": [
       "0.9464020774153653"
      ]
     },
     "execution_count": 16,
     "metadata": {},
     "output_type": "execute_result"
    }
   ],
   "source": [
    "score_selected=LinearRegression().fit(X_selected_features,y_train).score(X_test_selected,y_test)\n",
    "score_selected"
   ]
  },
  {
   "cell_type": "code",
   "execution_count": 17,
   "metadata": {},
   "outputs": [],
   "source": [
    "from sklearn.ensemble import RandomForestClassifier"
   ]
  },
  {
   "cell_type": "code",
   "execution_count": 18,
   "metadata": {},
   "outputs": [],
   "source": [
    "Rfc=RandomForestClassifier()"
   ]
  },
  {
   "cell_type": "code",
   "execution_count": 19,
   "metadata": {},
   "outputs": [
    {
     "name": "stderr",
     "output_type": "stream",
     "text": [
      "/anaconda3/lib/python3.7/site-packages/sklearn/ensemble/forest.py:246: FutureWarning: The default value of n_estimators will change from 10 in version 0.20 to 100 in 0.22.\n",
      "  \"10 in version 0.20 to 100 in 0.22.\", FutureWarning)\n"
     ]
    }
   ],
   "source": [
    "Rfc.fit(X_train,y_train)\n",
    "predictor=Rfc.predict(X_test)"
   ]
  },
  {
   "cell_type": "code",
   "execution_count": 20,
   "metadata": {},
   "outputs": [
    {
     "data": {
      "text/plain": [
       "0.9833333333333333"
      ]
     },
     "execution_count": 20,
     "metadata": {},
     "output_type": "execute_result"
    }
   ],
   "source": [
    "import sklearn.metrics as met\n",
    "\n",
    "accuracy=met.accuracy_score(predictor,y_test)\n",
    "accuracy"
   ]
  },
  {
   "cell_type": "markdown",
   "metadata": {},
   "source": [
    "# PCA"
   ]
  },
  {
   "cell_type": "code",
   "execution_count": 21,
   "metadata": {},
   "outputs": [],
   "source": [
    "from sklearn.preprocessing import StandardScaler"
   ]
  },
  {
   "cell_type": "code",
   "execution_count": 22,
   "metadata": {},
   "outputs": [
    {
     "name": "stderr",
     "output_type": "stream",
     "text": [
      "/anaconda3/lib/python3.7/site-packages/sklearn/preprocessing/data.py:645: DataConversionWarning: Data with input dtype int64, float64 were all converted to float64 by StandardScaler.\n",
      "  return self.partial_fit(X, y)\n",
      "/anaconda3/lib/python3.7/site-packages/sklearn/base.py:464: DataConversionWarning: Data with input dtype int64, float64 were all converted to float64 by StandardScaler.\n",
      "  return self.fit(X, **fit_params).transform(X)\n"
     ]
    }
   ],
   "source": [
    "X_std=StandardScaler().fit_transform(X)"
   ]
  },
  {
   "cell_type": "code",
   "execution_count": 23,
   "metadata": {},
   "outputs": [],
   "source": [
    "from sklearn.decomposition import PCA"
   ]
  },
  {
   "cell_type": "code",
   "execution_count": 24,
   "metadata": {},
   "outputs": [
    {
     "data": {
      "text/plain": [
       "(800, 258)"
      ]
     },
     "execution_count": 24,
     "metadata": {},
     "output_type": "execute_result"
    }
   ],
   "source": [
    "data.shape"
   ]
  },
  {
   "cell_type": "code",
   "execution_count": 25,
   "metadata": {},
   "outputs": [],
   "source": [
    "std=StandardScaler()"
   ]
  },
  {
   "cell_type": "code",
   "execution_count": 26,
   "metadata": {},
   "outputs": [
    {
     "name": "stderr",
     "output_type": "stream",
     "text": [
      "/anaconda3/lib/python3.7/site-packages/sklearn/preprocessing/data.py:645: DataConversionWarning: Data with input dtype int64, float64 were all converted to float64 by StandardScaler.\n",
      "  return self.partial_fit(X, y)\n",
      "/anaconda3/lib/python3.7/site-packages/sklearn/base.py:464: DataConversionWarning: Data with input dtype int64, float64 were all converted to float64 by StandardScaler.\n",
      "  return self.fit(X, **fit_params).transform(X)\n"
     ]
    }
   ],
   "source": [
    "Scaled_data=std.fit_transform(data)"
   ]
  },
  {
   "cell_type": "code",
   "execution_count": 27,
   "metadata": {},
   "outputs": [
    {
     "data": {
      "text/plain": [
       "(800, 258)"
      ]
     },
     "execution_count": 27,
     "metadata": {},
     "output_type": "execute_result"
    }
   ],
   "source": [
    "Scaled_data.shape"
   ]
  },
  {
   "cell_type": "code",
   "execution_count": 33,
   "metadata": {},
   "outputs": [
    {
     "name": "stderr",
     "output_type": "stream",
     "text": [
      "/anaconda3/lib/python3.7/site-packages/sklearn/preprocessing/data.py:645: DataConversionWarning: Data with input dtype int64, float64 were all converted to float64 by StandardScaler.\n",
      "  return self.partial_fit(X, y)\n",
      "/anaconda3/lib/python3.7/site-packages/sklearn/base.py:464: DataConversionWarning: Data with input dtype int64, float64 were all converted to float64 by StandardScaler.\n",
      "  return self.fit(X, **fit_params).transform(X)\n"
     ]
    }
   ],
   "source": [
    "scaled_data=StandardScaler().fit_transform(data)"
   ]
  },
  {
   "cell_type": "code",
   "execution_count": 38,
   "metadata": {},
   "outputs": [],
   "source": [
    "import matplotlib.pyplot as plt\n",
    "import seaborn as sns"
   ]
  },
  {
   "cell_type": "code",
   "execution_count": 39,
   "metadata": {},
   "outputs": [],
   "source": [
    "pca=PCA(n_components=2)"
   ]
  },
  {
   "cell_type": "code",
   "execution_count": 40,
   "metadata": {},
   "outputs": [],
   "source": [
    "pca_data=pca.fit_transform(scaled_data)"
   ]
  },
  {
   "cell_type": "code",
   "execution_count": 41,
   "metadata": {},
   "outputs": [
    {
     "data": {
      "text/plain": [
       "(800, 2)"
      ]
     },
     "execution_count": 41,
     "metadata": {},
     "output_type": "execute_result"
    }
   ],
   "source": [
    "pca_data.shape"
   ]
  },
  {
   "cell_type": "code",
   "execution_count": 42,
   "metadata": {},
   "outputs": [
    {
     "data": {
      "text/plain": [
       "<matplotlib.axes._subplots.AxesSubplot at 0x1a24cb92b0>"
      ]
     },
     "execution_count": 42,
     "metadata": {},
     "output_type": "execute_result"
    },
    {
     "data": {
      "image/png": "[encoded data removed]",
      "text/plain": [
       "<Figure size 432x288 with 1 Axes>"
      ]
     },
     "metadata": {
      "needs_background": "light"
     },
     "output_type": "display_data"
    }
   ],
   "source": [
    "pca_data=pd.DataFrame(pca_data,columns=['PCA1','PCA2'])\n",
    "sns.scatterplot('PCA1','PCA2',data=pca_data,hue=data['gnd'],size=data['gnd'],palette='Set1')"
   ]
  },
  {
   "cell_type": "markdown",
   "metadata": {},
   "source": [
    "258 dimensions in the original data is reduced to just 2 and the 4 classes of gnd are plotted \n",
    "where we can see the with just 2 dimesions all the 4 classes have been seperated and clearly grouped together.This is because the first 2 PCA components cover the maximum variance and derive a linear trainsformation out of it which results in perfect grouping of different classes."
   ]
  },
  {
   "cell_type": "code",
   "execution_count": 43,
   "metadata": {},
   "outputs": [],
   "source": [
    "pca1=PCA(n_components=25)"
   ]
  },
  {
   "cell_type": "code",
   "execution_count": 44,
   "metadata": {},
   "outputs": [],
   "source": [
    "pca_data1=pca1.fit_transform(scaled_data)"
   ]
  },
  {
   "cell_type": "code",
   "execution_count": 45,
   "metadata": {},
   "outputs": [
    {
     "data": {
      "text/plain": [
       "<matplotlib.axes._subplots.AxesSubplot at 0x1a255154a8>"
      ]
     },
     "execution_count": 45,
     "metadata": {},
     "output_type": "execute_result"
    },
    {
     "data": {
      "image/png": "[encoded data removed]",
      "text/plain": [
       "<Figure size 432x288 with 1 Axes>"
      ]
     },
     "metadata": {
      "needs_background": "light"
     },
     "output_type": "display_data"
    }
   ],
   "source": [
    "pca_data1=pd.DataFrame(pca_data1,columns=['PCA1','PCA2','PCA3','PCA4','PCA5','PCA6','PCA7','PCA8','PCA9','PCA10',\n",
    "                                     'PCA11','PCA12','PCA13','PCA14','PCA15','PCA16','PCA17','PCA18','PCA19','PCA20',\n",
    "                                     'PCA21','PCA22','PCA23','PCA24','PCA25'])\n",
    "sns.scatterplot('PCA20','PCA21',data=pca_data1,hue=data['gnd'],size=data['gnd'],palette='Set1')"
   ]
  },
  {
   "cell_type": "markdown",
   "metadata": {},
   "source": [
    "PCA20 and PCA21 are not as clear as PCA1 and PCA2 as we can see that the classes are not clearly \n",
    "grouped together and overlapping with each other.The residual variance becomes very less in the subsequent PCA components."
   ]
  },
  {
   "cell_type": "code",
   "execution_count": 46,
   "metadata": {},
   "outputs": [
    {
     "data": {
      "text/plain": [
       "<matplotlib.axes._subplots.AxesSubplot at 0x1a2524feb8>"
      ]
     },
     "execution_count": 46,
     "metadata": {},
     "output_type": "execute_result"
    },
    {
     "data": {
      "image/png": "[encoded data removed]",
      "text/plain": [
       "<Figure size 432x288 with 1 Axes>"
      ]
     },
     "metadata": {
      "needs_background": "light"
     },
     "output_type": "display_data"
    }
   ],
   "source": [
    "sns.scatterplot('PCA7','PCA6',data=pca_data1,hue=data['gnd'],size=data['gnd'],palette='Set1')"
   ]
  },
  {
   "cell_type": "code",
   "execution_count": 47,
   "metadata": {},
   "outputs": [],
   "source": [
    "from sklearn.manifold import TSNE"
   ]
  },
  {
   "cell_type": "code",
   "execution_count": 48,
   "metadata": {},
   "outputs": [],
   "source": [
    "sne=TSNE(n_components=3)"
   ]
  },
  {
   "cell_type": "code",
   "execution_count": 49,
   "metadata": {},
   "outputs": [],
   "source": [
    "sne_data=sne.fit_transform(scaled_data)"
   ]
  },
  {
   "cell_type": "code",
   "execution_count": 50,
   "metadata": {},
   "outputs": [
    {
     "data": {
      "text/html": [
       "<div>\n",
       "<style scoped>\n",
       "    .dataframe tbody tr th:only-of-type {\n",
       "        vertical-align: middle;\n",
       "    }\n",
       "\n",
       "    .dataframe tbody tr th {\n",
       "        vertical-align: top;\n",
       "    }\n",
       "\n",
       "    .dataframe thead th {\n",
       "        text-align: right;\n",
       "    }\n",
       "</style>\n",
       "<table border=\"1\" class=\"dataframe\">\n",
       "  <thead>\n",
       "    <tr style=\"text-align: right;\">\n",
       "      <th></th>\n",
       "      <th>SNE1</th>\n",
       "      <th>SNE2</th>\n",
       "      <th>SNE3</th>\n",
       "    </tr>\n",
       "  </thead>\n",
       "  <tbody>\n",
       "    <tr>\n",
       "      <th>0</th>\n",
       "      <td>-10.564612</td>\n",
       "      <td>0.938456</td>\n",
       "      <td>13.606697</td>\n",
       "    </tr>\n",
       "    <tr>\n",
       "      <th>1</th>\n",
       "      <td>-10.571280</td>\n",
       "      <td>-3.453264</td>\n",
       "      <td>4.155890</td>\n",
       "    </tr>\n",
       "    <tr>\n",
       "      <th>2</th>\n",
       "      <td>-7.112767</td>\n",
       "      <td>3.809917</td>\n",
       "      <td>7.799889</td>\n",
       "    </tr>\n",
       "    <tr>\n",
       "      <th>3</th>\n",
       "      <td>-9.265800</td>\n",
       "      <td>-2.119762</td>\n",
       "      <td>1.240961</td>\n",
       "    </tr>\n",
       "    <tr>\n",
       "      <th>4</th>\n",
       "      <td>-6.643911</td>\n",
       "      <td>-3.031165</td>\n",
       "      <td>1.828606</td>\n",
       "    </tr>\n",
       "    <tr>\n",
       "      <th>5</th>\n",
       "      <td>-11.891411</td>\n",
       "      <td>2.247420</td>\n",
       "      <td>5.832707</td>\n",
       "    </tr>\n",
       "    <tr>\n",
       "      <th>6</th>\n",
       "      <td>-10.321067</td>\n",
       "      <td>-3.740786</td>\n",
       "      <td>3.004728</td>\n",
       "    </tr>\n",
       "    <tr>\n",
       "      <th>7</th>\n",
       "      <td>-9.354082</td>\n",
       "      <td>-2.206097</td>\n",
       "      <td>1.405962</td>\n",
       "    </tr>\n",
       "    <tr>\n",
       "      <th>8</th>\n",
       "      <td>-10.585711</td>\n",
       "      <td>6.628323</td>\n",
       "      <td>9.413139</td>\n",
       "    </tr>\n",
       "    <tr>\n",
       "      <th>9</th>\n",
       "      <td>-11.938846</td>\n",
       "      <td>-0.791736</td>\n",
       "      <td>4.001000</td>\n",
       "    </tr>\n",
       "    <tr>\n",
       "      <th>10</th>\n",
       "      <td>-12.243725</td>\n",
       "      <td>6.959280</td>\n",
       "      <td>14.105563</td>\n",
       "    </tr>\n",
       "    <tr>\n",
       "      <th>11</th>\n",
       "      <td>-12.469819</td>\n",
       "      <td>3.567364</td>\n",
       "      <td>12.743337</td>\n",
       "    </tr>\n",
       "    <tr>\n",
       "      <th>12</th>\n",
       "      <td>-9.765197</td>\n",
       "      <td>-1.500586</td>\n",
       "      <td>3.097206</td>\n",
       "    </tr>\n",
       "    <tr>\n",
       "      <th>13</th>\n",
       "      <td>-11.956147</td>\n",
       "      <td>-0.496261</td>\n",
       "      <td>10.770261</td>\n",
       "    </tr>\n",
       "    <tr>\n",
       "      <th>14</th>\n",
       "      <td>-9.711744</td>\n",
       "      <td>0.158568</td>\n",
       "      <td>4.452483</td>\n",
       "    </tr>\n",
       "    <tr>\n",
       "      <th>15</th>\n",
       "      <td>-10.127199</td>\n",
       "      <td>4.674722</td>\n",
       "      <td>16.501747</td>\n",
       "    </tr>\n",
       "    <tr>\n",
       "      <th>16</th>\n",
       "      <td>-11.182194</td>\n",
       "      <td>4.573408</td>\n",
       "      <td>13.932008</td>\n",
       "    </tr>\n",
       "    <tr>\n",
       "      <th>17</th>\n",
       "      <td>-8.607519</td>\n",
       "      <td>4.756618</td>\n",
       "      <td>11.213706</td>\n",
       "    </tr>\n",
       "    <tr>\n",
       "      <th>18</th>\n",
       "      <td>-12.296203</td>\n",
       "      <td>3.940398</td>\n",
       "      <td>12.775098</td>\n",
       "    </tr>\n",
       "    <tr>\n",
       "      <th>19</th>\n",
       "      <td>-12.153379</td>\n",
       "      <td>3.852484</td>\n",
       "      <td>14.638232</td>\n",
       "    </tr>\n",
       "    <tr>\n",
       "      <th>20</th>\n",
       "      <td>-5.328372</td>\n",
       "      <td>7.395463</td>\n",
       "      <td>13.481763</td>\n",
       "    </tr>\n",
       "    <tr>\n",
       "      <th>21</th>\n",
       "      <td>-8.549147</td>\n",
       "      <td>4.228862</td>\n",
       "      <td>6.569856</td>\n",
       "    </tr>\n",
       "    <tr>\n",
       "      <th>22</th>\n",
       "      <td>-11.348083</td>\n",
       "      <td>9.065684</td>\n",
       "      <td>14.866011</td>\n",
       "    </tr>\n",
       "    <tr>\n",
       "      <th>23</th>\n",
       "      <td>-10.360747</td>\n",
       "      <td>8.955896</td>\n",
       "      <td>15.800655</td>\n",
       "    </tr>\n",
       "    <tr>\n",
       "      <th>24</th>\n",
       "      <td>-10.727674</td>\n",
       "      <td>-2.427259</td>\n",
       "      <td>1.432381</td>\n",
       "    </tr>\n",
       "    <tr>\n",
       "      <th>25</th>\n",
       "      <td>-10.136328</td>\n",
       "      <td>6.552290</td>\n",
       "      <td>12.524882</td>\n",
       "    </tr>\n",
       "    <tr>\n",
       "      <th>26</th>\n",
       "      <td>-7.163640</td>\n",
       "      <td>9.581714</td>\n",
       "      <td>13.356699</td>\n",
       "    </tr>\n",
       "    <tr>\n",
       "      <th>27</th>\n",
       "      <td>-10.664014</td>\n",
       "      <td>5.193287</td>\n",
       "      <td>8.395398</td>\n",
       "    </tr>\n",
       "    <tr>\n",
       "      <th>28</th>\n",
       "      <td>-8.786468</td>\n",
       "      <td>5.008800</td>\n",
       "      <td>11.375791</td>\n",
       "    </tr>\n",
       "    <tr>\n",
       "      <th>29</th>\n",
       "      <td>-10.444899</td>\n",
       "      <td>4.983894</td>\n",
       "      <td>15.046927</td>\n",
       "    </tr>\n",
       "    <tr>\n",
       "      <th>...</th>\n",
       "      <td>...</td>\n",
       "      <td>...</td>\n",
       "      <td>...</td>\n",
       "    </tr>\n",
       "    <tr>\n",
       "      <th>770</th>\n",
       "      <td>-0.021268</td>\n",
       "      <td>-3.208592</td>\n",
       "      <td>-9.233074</td>\n",
       "    </tr>\n",
       "    <tr>\n",
       "      <th>771</th>\n",
       "      <td>-3.913180</td>\n",
       "      <td>-0.185102</td>\n",
       "      <td>-6.504136</td>\n",
       "    </tr>\n",
       "    <tr>\n",
       "      <th>772</th>\n",
       "      <td>-11.785513</td>\n",
       "      <td>4.457924</td>\n",
       "      <td>-6.043065</td>\n",
       "    </tr>\n",
       "    <tr>\n",
       "      <th>773</th>\n",
       "      <td>-2.164672</td>\n",
       "      <td>-1.610752</td>\n",
       "      <td>-9.753214</td>\n",
       "    </tr>\n",
       "    <tr>\n",
       "      <th>774</th>\n",
       "      <td>-2.818330</td>\n",
       "      <td>1.096117</td>\n",
       "      <td>-11.056634</td>\n",
       "    </tr>\n",
       "    <tr>\n",
       "      <th>775</th>\n",
       "      <td>-7.785408</td>\n",
       "      <td>4.375166</td>\n",
       "      <td>-6.554674</td>\n",
       "    </tr>\n",
       "    <tr>\n",
       "      <th>776</th>\n",
       "      <td>-3.332133</td>\n",
       "      <td>2.320494</td>\n",
       "      <td>-9.129510</td>\n",
       "    </tr>\n",
       "    <tr>\n",
       "      <th>777</th>\n",
       "      <td>-8.636866</td>\n",
       "      <td>-0.165419</td>\n",
       "      <td>-11.607493</td>\n",
       "    </tr>\n",
       "    <tr>\n",
       "      <th>778</th>\n",
       "      <td>-2.057371</td>\n",
       "      <td>2.111694</td>\n",
       "      <td>-7.520607</td>\n",
       "    </tr>\n",
       "    <tr>\n",
       "      <th>779</th>\n",
       "      <td>-5.807217</td>\n",
       "      <td>-0.963380</td>\n",
       "      <td>-12.204885</td>\n",
       "    </tr>\n",
       "    <tr>\n",
       "      <th>780</th>\n",
       "      <td>-6.059256</td>\n",
       "      <td>-1.068999</td>\n",
       "      <td>-12.816955</td>\n",
       "    </tr>\n",
       "    <tr>\n",
       "      <th>781</th>\n",
       "      <td>-13.204026</td>\n",
       "      <td>3.668713</td>\n",
       "      <td>-12.217206</td>\n",
       "    </tr>\n",
       "    <tr>\n",
       "      <th>782</th>\n",
       "      <td>-10.155664</td>\n",
       "      <td>-0.440298</td>\n",
       "      <td>-7.570132</td>\n",
       "    </tr>\n",
       "    <tr>\n",
       "      <th>783</th>\n",
       "      <td>-1.133118</td>\n",
       "      <td>-2.844869</td>\n",
       "      <td>-8.399735</td>\n",
       "    </tr>\n",
       "    <tr>\n",
       "      <th>784</th>\n",
       "      <td>-3.212460</td>\n",
       "      <td>-0.495407</td>\n",
       "      <td>-6.008491</td>\n",
       "    </tr>\n",
       "    <tr>\n",
       "      <th>785</th>\n",
       "      <td>-2.277596</td>\n",
       "      <td>-3.262918</td>\n",
       "      <td>-6.345764</td>\n",
       "    </tr>\n",
       "    <tr>\n",
       "      <th>786</th>\n",
       "      <td>-2.129621</td>\n",
       "      <td>-3.270301</td>\n",
       "      <td>-6.816270</td>\n",
       "    </tr>\n",
       "    <tr>\n",
       "      <th>787</th>\n",
       "      <td>-3.185378</td>\n",
       "      <td>-4.426914</td>\n",
       "      <td>-6.844097</td>\n",
       "    </tr>\n",
       "    <tr>\n",
       "      <th>788</th>\n",
       "      <td>-10.959264</td>\n",
       "      <td>5.048338</td>\n",
       "      <td>-11.727799</td>\n",
       "    </tr>\n",
       "    <tr>\n",
       "      <th>789</th>\n",
       "      <td>-11.538952</td>\n",
       "      <td>4.237469</td>\n",
       "      <td>-10.157407</td>\n",
       "    </tr>\n",
       "    <tr>\n",
       "      <th>790</th>\n",
       "      <td>-10.961593</td>\n",
       "      <td>2.327073</td>\n",
       "      <td>-12.673589</td>\n",
       "    </tr>\n",
       "    <tr>\n",
       "      <th>791</th>\n",
       "      <td>-5.797593</td>\n",
       "      <td>-0.167085</td>\n",
       "      <td>-11.732068</td>\n",
       "    </tr>\n",
       "    <tr>\n",
       "      <th>792</th>\n",
       "      <td>-5.373085</td>\n",
       "      <td>-0.600297</td>\n",
       "      <td>-12.147254</td>\n",
       "    </tr>\n",
       "    <tr>\n",
       "      <th>793</th>\n",
       "      <td>-1.472937</td>\n",
       "      <td>-1.775589</td>\n",
       "      <td>-8.625453</td>\n",
       "    </tr>\n",
       "    <tr>\n",
       "      <th>794</th>\n",
       "      <td>-7.670370</td>\n",
       "      <td>-4.736319</td>\n",
       "      <td>-9.384160</td>\n",
       "    </tr>\n",
       "    <tr>\n",
       "      <th>795</th>\n",
       "      <td>-12.162545</td>\n",
       "      <td>1.118070</td>\n",
       "      <td>-13.026779</td>\n",
       "    </tr>\n",
       "    <tr>\n",
       "      <th>796</th>\n",
       "      <td>-5.172243</td>\n",
       "      <td>4.292833</td>\n",
       "      <td>-11.431346</td>\n",
       "    </tr>\n",
       "    <tr>\n",
       "      <th>797</th>\n",
       "      <td>-5.040260</td>\n",
       "      <td>2.481461</td>\n",
       "      <td>-10.126004</td>\n",
       "    </tr>\n",
       "    <tr>\n",
       "      <th>798</th>\n",
       "      <td>-7.928017</td>\n",
       "      <td>1.374247</td>\n",
       "      <td>-12.431356</td>\n",
       "    </tr>\n",
       "    <tr>\n",
       "      <th>799</th>\n",
       "      <td>-8.203732</td>\n",
       "      <td>2.627375</td>\n",
       "      <td>-5.233284</td>\n",
       "    </tr>\n",
       "  </tbody>\n",
       "</table>\n",
       "<p>800 rows × 3 columns</p>\n",
       "</div>"
      ],
      "text/plain": [
       "          SNE1      SNE2       SNE3\n",
       "0   -10.564612  0.938456  13.606697\n",
       "1   -10.571280 -3.453264   4.155890\n",
       "2    -7.112767  3.809917   7.799889\n",
       "3    -9.265800 -2.119762   1.240961\n",
       "4    -6.643911 -3.031165   1.828606\n",
       "5   -11.891411  2.247420   5.832707\n",
       "6   -10.321067 -3.740786   3.004728\n",
       "7    -9.354082 -2.206097   1.405962\n",
       "8   -10.585711  6.628323   9.413139\n",
       "9   -11.938846 -0.791736   4.001000\n",
       "10  -12.243725  6.959280  14.105563\n",
       "11  -12.469819  3.567364  12.743337\n",
       "12   -9.765197 -1.500586   3.097206\n",
       "13  -11.956147 -0.496261  10.770261\n",
       "14   -9.711744  0.158568   4.452483\n",
       "15  -10.127199  4.674722  16.501747\n",
       "16  -11.182194  4.573408  13.932008\n",
       "17   -8.607519  4.756618  11.213706\n",
       "18  -12.296203  3.940398  12.775098\n",
       "19  -12.153379  3.852484  14.638232\n",
       "20   -5.328372  7.395463  13.481763\n",
       "21   -8.549147  4.228862   6.569856\n",
       "22  -11.348083  9.065684  14.866011\n",
       "23  -10.360747  8.955896  15.800655\n",
       "24  -10.727674 -2.427259   1.432381\n",
       "25  -10.136328  6.552290  12.524882\n",
       "26   -7.163640  9.581714  13.356699\n",
       "27  -10.664014  5.193287   8.395398\n",
       "28   -8.786468  5.008800  11.375791\n",
       "29  -10.444899  4.983894  15.046927\n",
       "..         ...       ...        ...\n",
       "770  -0.021268 -3.208592  -9.233074\n",
       "771  -3.913180 -0.185102  -6.504136\n",
       "772 -11.785513  4.457924  -6.043065\n",
       "773  -2.164672 -1.610752  -9.753214\n",
       "774  -2.818330  1.096117 -11.056634\n",
       "775  -7.785408  4.375166  -6.554674\n",
       "776  -3.332133  2.320494  -9.129510\n",
       "777  -8.636866 -0.165419 -11.607493\n",
       "778  -2.057371  2.111694  -7.520607\n",
       "779  -5.807217 -0.963380 -12.204885\n",
       "780  -6.059256 -1.068999 -12.816955\n",
       "781 -13.204026  3.668713 -12.217206\n",
       "782 -10.155664 -0.440298  -7.570132\n",
       "783  -1.133118 -2.844869  -8.399735\n",
       "784  -3.212460 -0.495407  -6.008491\n",
       "785  -2.277596 -3.262918  -6.345764\n",
       "786  -2.129621 -3.270301  -6.816270\n",
       "787  -3.185378 -4.426914  -6.844097\n",
       "788 -10.959264  5.048338 -11.727799\n",
       "789 -11.538952  4.237469 -10.157407\n",
       "790 -10.961593  2.327073 -12.673589\n",
       "791  -5.797593 -0.167085 -11.732068\n",
       "792  -5.373085 -0.600297 -12.147254\n",
       "793  -1.472937 -1.775589  -8.625453\n",
       "794  -7.670370 -4.736319  -9.384160\n",
       "795 -12.162545  1.118070 -13.026779\n",
       "796  -5.172243  4.292833 -11.431346\n",
       "797  -5.040260  2.481461 -10.126004\n",
       "798  -7.928017  1.374247 -12.431356\n",
       "799  -8.203732  2.627375  -5.233284\n",
       "\n",
       "[800 rows x 3 columns]"
      ]
     },
     "execution_count": 50,
     "metadata": {},
     "output_type": "execute_result"
    }
   ],
   "source": [
    "sne_df=pd.DataFrame(sne_data,columns=['SNE1','SNE2','SNE3'])\n",
    "sne_df"
   ]
  },
  {
   "cell_type": "code",
   "execution_count": 55,
   "metadata": {},
   "outputs": [
    {
     "data": {
      "text/plain": [
       "<matplotlib.axes._subplots.AxesSubplot at 0x1a25746f60>"
      ]
     },
     "execution_count": 55,
     "metadata": {},
     "output_type": "execute_result"
    },
    {
     "data": {
      "image/png": "[encoded data removed]",
      "text/plain": [
       "<Figure size 432x288 with 1 Axes>"
      ]
     },
     "metadata": {
      "needs_background": "light"
     },
     "output_type": "display_data"
    }
   ],
   "source": [
    "sns.scatterplot('SNE1','SNE3',data=sne_df,hue=data['gnd'],size=data['gnd'],palette='Set1')"
   ]
  },
  {
   "cell_type": "markdown",
   "metadata": {},
   "source": [
    "Grouping of the 4 classes is more clearly grouped than that of PCA6 and PCA7.Non-linear transformation of t-SNE has a better effect on the dataset."
   ]
  },
  {
   "cell_type": "code",
   "execution_count": 56,
   "metadata": {},
   "outputs": [],
   "source": [
    "pca2=PCA(n_components=256)"
   ]
  },
  {
   "cell_type": "code",
   "execution_count": 57,
   "metadata": {},
   "outputs": [],
   "source": [
    "pca_data2=pca2.fit_transform(scaled_data)"
   ]
  },
  {
   "cell_type": "code",
   "execution_count": 58,
   "metadata": {},
   "outputs": [],
   "source": [
    "pca_data2=pd.DataFrame(pca_data2)"
   ]
  },
  {
   "cell_type": "code",
   "execution_count": 63,
   "metadata": {},
   "outputs": [
    {
     "data": {
      "text/plain": [
       "(800, 256)"
      ]
     },
     "execution_count": 63,
     "metadata": {},
     "output_type": "execute_result"
    }
   ],
   "source": [
    "pca_data2.shape"
   ]
  },
  {
   "cell_type": "code",
   "execution_count": 64,
   "metadata": {},
   "outputs": [
    {
     "data": {
      "text/plain": [
       "(800, 258)"
      ]
     },
     "execution_count": 64,
     "metadata": {},
     "output_type": "execute_result"
    }
   ],
   "source": [
    "scaled_data.shape"
   ]
  },
  {
   "cell_type": "code",
   "execution_count": 65,
   "metadata": {},
   "outputs": [
    {
     "data": {
      "text/plain": [
       "(800, 256)"
      ]
     },
     "execution_count": 65,
     "metadata": {},
     "output_type": "execute_result"
    }
   ],
   "source": [
    "Scaled_data=pd.DataFrame(scaled_data[:,:-2])\n",
    "Scaled_data.shape"
   ]
  },
  {
   "cell_type": "code",
   "execution_count": 66,
   "metadata": {},
   "outputs": [],
   "source": [
    "inv_data=pca2.inverse_transform(Scaled_data)"
   ]
  },
  {
   "cell_type": "code",
   "execution_count": 67,
   "metadata": {},
   "outputs": [],
   "source": [
    "Inv_data=inv_data[:,:-2]"
   ]
  },
  {
   "cell_type": "code",
   "execution_count": 68,
   "metadata": {},
   "outputs": [
    {
     "data": {
      "text/plain": [
       "(800, 256)"
      ]
     },
     "execution_count": 68,
     "metadata": {},
     "output_type": "execute_result"
    }
   ],
   "source": [
    "Inv_data.shape"
   ]
  },
  {
   "cell_type": "code",
   "execution_count": 69,
   "metadata": {},
   "outputs": [],
   "source": [
    "Error=pca_data2-Inv_data"
   ]
  },
  {
   "cell_type": "code",
   "execution_count": 70,
   "metadata": {},
   "outputs": [],
   "source": [
    "New_Df={'PCA_error 2':Error[1],'PCA_error 4':Error[3],\n",
    "        'PCA_error 10':Error[9],'PCA_error 30':Error[29],'PCA_error 40':Error[39],'PCA_error 256':Error[255]}"
   ]
  },
  {
   "cell_type": "code",
   "execution_count": 71,
   "metadata": {},
   "outputs": [],
   "source": [
    "New_df=pd.DataFrame(New_Df,columns=['PCA_error 2','PCA_error 4','PCA_error 10',\n",
    "                                    'PCA_error 30','PCA_error 40','PCA_error 256'])"
   ]
  },
  {
   "cell_type": "code",
   "execution_count": 72,
   "metadata": {},
   "outputs": [
    {
     "data": {
      "text/html": [
       "<div>\n",
       "<style scoped>\n",
       "    .dataframe tbody tr th:only-of-type {\n",
       "        vertical-align: middle;\n",
       "    }\n",
       "\n",
       "    .dataframe tbody tr th {\n",
       "        vertical-align: top;\n",
       "    }\n",
       "\n",
       "    .dataframe thead th {\n",
       "        text-align: right;\n",
       "    }\n",
       "</style>\n",
       "<table border=\"1\" class=\"dataframe\">\n",
       "  <thead>\n",
       "    <tr style=\"text-align: right;\">\n",
       "      <th></th>\n",
       "      <th>PCA_error 2</th>\n",
       "      <th>PCA_error 4</th>\n",
       "      <th>PCA_error 10</th>\n",
       "      <th>PCA_error 30</th>\n",
       "      <th>PCA_error 40</th>\n",
       "      <th>PCA_error 256</th>\n",
       "    </tr>\n",
       "  </thead>\n",
       "  <tbody>\n",
       "    <tr>\n",
       "      <th>0</th>\n",
       "      <td>5.683583</td>\n",
       "      <td>5.518487</td>\n",
       "      <td>-0.084779</td>\n",
       "      <td>0.108612</td>\n",
       "      <td>1.829524</td>\n",
       "      <td>0.527108</td>\n",
       "    </tr>\n",
       "    <tr>\n",
       "      <th>1</th>\n",
       "      <td>-0.374035</td>\n",
       "      <td>-10.297705</td>\n",
       "      <td>-1.911580</td>\n",
       "      <td>-0.386091</td>\n",
       "      <td>-0.800229</td>\n",
       "      <td>0.307897</td>\n",
       "    </tr>\n",
       "    <tr>\n",
       "      <th>2</th>\n",
       "      <td>5.357829</td>\n",
       "      <td>-8.802455</td>\n",
       "      <td>2.777834</td>\n",
       "      <td>2.852458</td>\n",
       "      <td>-0.246718</td>\n",
       "      <td>0.867662</td>\n",
       "    </tr>\n",
       "    <tr>\n",
       "      <th>3</th>\n",
       "      <td>-1.774084</td>\n",
       "      <td>-7.131384</td>\n",
       "      <td>-2.135289</td>\n",
       "      <td>0.549057</td>\n",
       "      <td>0.822185</td>\n",
       "      <td>0.675191</td>\n",
       "    </tr>\n",
       "    <tr>\n",
       "      <th>4</th>\n",
       "      <td>1.326617</td>\n",
       "      <td>-3.456369</td>\n",
       "      <td>-1.678020</td>\n",
       "      <td>-0.606362</td>\n",
       "      <td>3.744865</td>\n",
       "      <td>0.804409</td>\n",
       "    </tr>\n",
       "    <tr>\n",
       "      <th>5</th>\n",
       "      <td>2.491792</td>\n",
       "      <td>-6.914080</td>\n",
       "      <td>-2.495471</td>\n",
       "      <td>-0.906910</td>\n",
       "      <td>0.603880</td>\n",
       "      <td>0.440047</td>\n",
       "    </tr>\n",
       "    <tr>\n",
       "      <th>6</th>\n",
       "      <td>-1.486366</td>\n",
       "      <td>-12.474246</td>\n",
       "      <td>-1.011473</td>\n",
       "      <td>0.946952</td>\n",
       "      <td>1.608626</td>\n",
       "      <td>0.727092</td>\n",
       "    </tr>\n",
       "    <tr>\n",
       "      <th>7</th>\n",
       "      <td>-0.630172</td>\n",
       "      <td>-8.606806</td>\n",
       "      <td>-2.258615</td>\n",
       "      <td>0.555447</td>\n",
       "      <td>0.966869</td>\n",
       "      <td>0.709906</td>\n",
       "    </tr>\n",
       "    <tr>\n",
       "      <th>8</th>\n",
       "      <td>1.371449</td>\n",
       "      <td>0.062545</td>\n",
       "      <td>2.312362</td>\n",
       "      <td>2.589447</td>\n",
       "      <td>0.552042</td>\n",
       "      <td>1.059305</td>\n",
       "    </tr>\n",
       "    <tr>\n",
       "      <th>9</th>\n",
       "      <td>0.062540</td>\n",
       "      <td>-9.214419</td>\n",
       "      <td>-0.195657</td>\n",
       "      <td>1.163665</td>\n",
       "      <td>0.974700</td>\n",
       "      <td>0.316422</td>\n",
       "    </tr>\n",
       "    <tr>\n",
       "      <th>10</th>\n",
       "      <td>4.344653</td>\n",
       "      <td>8.329241</td>\n",
       "      <td>-2.435843</td>\n",
       "      <td>1.762658</td>\n",
       "      <td>0.689262</td>\n",
       "      <td>0.129219</td>\n",
       "    </tr>\n",
       "    <tr>\n",
       "      <th>11</th>\n",
       "      <td>9.461571</td>\n",
       "      <td>-0.958966</td>\n",
       "      <td>3.634694</td>\n",
       "      <td>-1.761737</td>\n",
       "      <td>-1.815335</td>\n",
       "      <td>0.751436</td>\n",
       "    </tr>\n",
       "    <tr>\n",
       "      <th>12</th>\n",
       "      <td>-1.070191</td>\n",
       "      <td>-10.485395</td>\n",
       "      <td>0.491176</td>\n",
       "      <td>1.327501</td>\n",
       "      <td>0.598108</td>\n",
       "      <td>0.984529</td>\n",
       "    </tr>\n",
       "    <tr>\n",
       "      <th>13</th>\n",
       "      <td>3.497977</td>\n",
       "      <td>2.977379</td>\n",
       "      <td>0.491009</td>\n",
       "      <td>0.303420</td>\n",
       "      <td>2.189157</td>\n",
       "      <td>0.070807</td>\n",
       "    </tr>\n",
       "    <tr>\n",
       "      <th>14</th>\n",
       "      <td>0.410270</td>\n",
       "      <td>-7.076121</td>\n",
       "      <td>0.479383</td>\n",
       "      <td>0.245428</td>\n",
       "      <td>-0.608422</td>\n",
       "      <td>0.555247</td>\n",
       "    </tr>\n",
       "    <tr>\n",
       "      <th>15</th>\n",
       "      <td>11.176409</td>\n",
       "      <td>9.674286</td>\n",
       "      <td>0.082727</td>\n",
       "      <td>1.139405</td>\n",
       "      <td>-0.431241</td>\n",
       "      <td>-0.383063</td>\n",
       "    </tr>\n",
       "    <tr>\n",
       "      <th>16</th>\n",
       "      <td>10.293269</td>\n",
       "      <td>4.205681</td>\n",
       "      <td>3.149734</td>\n",
       "      <td>0.385399</td>\n",
       "      <td>-2.119327</td>\n",
       "      <td>-0.188669</td>\n",
       "    </tr>\n",
       "    <tr>\n",
       "      <th>17</th>\n",
       "      <td>4.424642</td>\n",
       "      <td>-0.494466</td>\n",
       "      <td>-1.178796</td>\n",
       "      <td>1.371038</td>\n",
       "      <td>-0.766443</td>\n",
       "      <td>1.143109</td>\n",
       "    </tr>\n",
       "    <tr>\n",
       "      <th>18</th>\n",
       "      <td>9.239414</td>\n",
       "      <td>-1.517626</td>\n",
       "      <td>4.308351</td>\n",
       "      <td>-0.866446</td>\n",
       "      <td>-3.053031</td>\n",
       "      <td>0.599277</td>\n",
       "    </tr>\n",
       "    <tr>\n",
       "      <th>19</th>\n",
       "      <td>8.481877</td>\n",
       "      <td>4.387936</td>\n",
       "      <td>0.580562</td>\n",
       "      <td>-0.760732</td>\n",
       "      <td>-1.663124</td>\n",
       "      <td>0.532617</td>\n",
       "    </tr>\n",
       "    <tr>\n",
       "      <th>20</th>\n",
       "      <td>10.426503</td>\n",
       "      <td>1.655970</td>\n",
       "      <td>1.406069</td>\n",
       "      <td>-0.416944</td>\n",
       "      <td>-1.952883</td>\n",
       "      <td>0.571117</td>\n",
       "    </tr>\n",
       "    <tr>\n",
       "      <th>21</th>\n",
       "      <td>3.111865</td>\n",
       "      <td>-7.231131</td>\n",
       "      <td>0.619109</td>\n",
       "      <td>2.508050</td>\n",
       "      <td>-1.967065</td>\n",
       "      <td>0.713642</td>\n",
       "    </tr>\n",
       "    <tr>\n",
       "      <th>22</th>\n",
       "      <td>7.516417</td>\n",
       "      <td>5.694354</td>\n",
       "      <td>-0.143385</td>\n",
       "      <td>0.370761</td>\n",
       "      <td>-0.475948</td>\n",
       "      <td>-0.984248</td>\n",
       "    </tr>\n",
       "    <tr>\n",
       "      <th>23</th>\n",
       "      <td>10.473378</td>\n",
       "      <td>10.231446</td>\n",
       "      <td>0.176143</td>\n",
       "      <td>-1.223755</td>\n",
       "      <td>-0.249655</td>\n",
       "      <td>0.146926</td>\n",
       "    </tr>\n",
       "    <tr>\n",
       "      <th>24</th>\n",
       "      <td>-1.382521</td>\n",
       "      <td>-12.982150</td>\n",
       "      <td>-2.002216</td>\n",
       "      <td>1.430307</td>\n",
       "      <td>0.004013</td>\n",
       "      <td>0.645617</td>\n",
       "    </tr>\n",
       "    <tr>\n",
       "      <th>25</th>\n",
       "      <td>5.429403</td>\n",
       "      <td>3.116296</td>\n",
       "      <td>-0.891478</td>\n",
       "      <td>1.510818</td>\n",
       "      <td>-1.653523</td>\n",
       "      <td>0.145162</td>\n",
       "    </tr>\n",
       "    <tr>\n",
       "      <th>26</th>\n",
       "      <td>15.504581</td>\n",
       "      <td>-2.039889</td>\n",
       "      <td>-4.035426</td>\n",
       "      <td>3.335902</td>\n",
       "      <td>0.000690</td>\n",
       "      <td>-0.248135</td>\n",
       "    </tr>\n",
       "    <tr>\n",
       "      <th>27</th>\n",
       "      <td>3.109290</td>\n",
       "      <td>-9.318969</td>\n",
       "      <td>0.970068</td>\n",
       "      <td>1.068364</td>\n",
       "      <td>-0.730184</td>\n",
       "      <td>1.359731</td>\n",
       "    </tr>\n",
       "    <tr>\n",
       "      <th>28</th>\n",
       "      <td>5.006776</td>\n",
       "      <td>-0.210217</td>\n",
       "      <td>-2.210291</td>\n",
       "      <td>1.319067</td>\n",
       "      <td>-1.074940</td>\n",
       "      <td>0.742956</td>\n",
       "    </tr>\n",
       "    <tr>\n",
       "      <th>29</th>\n",
       "      <td>9.487209</td>\n",
       "      <td>9.132746</td>\n",
       "      <td>1.180740</td>\n",
       "      <td>0.738620</td>\n",
       "      <td>-1.433406</td>\n",
       "      <td>-0.980764</td>\n",
       "    </tr>\n",
       "    <tr>\n",
       "      <th>...</th>\n",
       "      <td>...</td>\n",
       "      <td>...</td>\n",
       "      <td>...</td>\n",
       "      <td>...</td>\n",
       "      <td>...</td>\n",
       "      <td>...</td>\n",
       "    </tr>\n",
       "    <tr>\n",
       "      <th>770</th>\n",
       "      <td>-4.707842</td>\n",
       "      <td>-4.416675</td>\n",
       "      <td>1.773966</td>\n",
       "      <td>-1.715304</td>\n",
       "      <td>-1.614193</td>\n",
       "      <td>0.318790</td>\n",
       "    </tr>\n",
       "    <tr>\n",
       "      <th>771</th>\n",
       "      <td>-6.426753</td>\n",
       "      <td>-1.676847</td>\n",
       "      <td>1.130698</td>\n",
       "      <td>-0.263559</td>\n",
       "      <td>0.829164</td>\n",
       "      <td>0.205326</td>\n",
       "    </tr>\n",
       "    <tr>\n",
       "      <th>772</th>\n",
       "      <td>-4.528870</td>\n",
       "      <td>6.349691</td>\n",
       "      <td>5.852827</td>\n",
       "      <td>-0.425479</td>\n",
       "      <td>-3.980035</td>\n",
       "      <td>0.635328</td>\n",
       "    </tr>\n",
       "    <tr>\n",
       "      <th>773</th>\n",
       "      <td>-2.765770</td>\n",
       "      <td>-3.441561</td>\n",
       "      <td>-0.685170</td>\n",
       "      <td>0.411562</td>\n",
       "      <td>0.193599</td>\n",
       "      <td>0.463899</td>\n",
       "    </tr>\n",
       "    <tr>\n",
       "      <th>774</th>\n",
       "      <td>-7.366819</td>\n",
       "      <td>-4.555850</td>\n",
       "      <td>3.967086</td>\n",
       "      <td>-0.215326</td>\n",
       "      <td>-1.499479</td>\n",
       "      <td>0.771777</td>\n",
       "    </tr>\n",
       "    <tr>\n",
       "      <th>775</th>\n",
       "      <td>-9.299231</td>\n",
       "      <td>1.029924</td>\n",
       "      <td>4.515130</td>\n",
       "      <td>-0.593972</td>\n",
       "      <td>-1.123123</td>\n",
       "      <td>0.426653</td>\n",
       "    </tr>\n",
       "    <tr>\n",
       "      <th>776</th>\n",
       "      <td>-9.864710</td>\n",
       "      <td>-4.136435</td>\n",
       "      <td>3.054511</td>\n",
       "      <td>-0.380291</td>\n",
       "      <td>-1.536136</td>\n",
       "      <td>0.315312</td>\n",
       "    </tr>\n",
       "    <tr>\n",
       "      <th>777</th>\n",
       "      <td>-4.723952</td>\n",
       "      <td>6.538936</td>\n",
       "      <td>1.384176</td>\n",
       "      <td>-0.044216</td>\n",
       "      <td>0.615465</td>\n",
       "      <td>0.376244</td>\n",
       "    </tr>\n",
       "    <tr>\n",
       "      <th>778</th>\n",
       "      <td>-5.709170</td>\n",
       "      <td>-3.673232</td>\n",
       "      <td>3.375950</td>\n",
       "      <td>0.018414</td>\n",
       "      <td>-0.986388</td>\n",
       "      <td>0.498020</td>\n",
       "    </tr>\n",
       "    <tr>\n",
       "      <th>779</th>\n",
       "      <td>-2.890269</td>\n",
       "      <td>1.279059</td>\n",
       "      <td>0.022190</td>\n",
       "      <td>-0.300451</td>\n",
       "      <td>0.192233</td>\n",
       "      <td>-0.123902</td>\n",
       "    </tr>\n",
       "    <tr>\n",
       "      <th>780</th>\n",
       "      <td>-3.773039</td>\n",
       "      <td>3.532499</td>\n",
       "      <td>-1.138262</td>\n",
       "      <td>-0.666552</td>\n",
       "      <td>0.193173</td>\n",
       "      <td>0.337696</td>\n",
       "    </tr>\n",
       "    <tr>\n",
       "      <th>781</th>\n",
       "      <td>-4.255737</td>\n",
       "      <td>12.024994</td>\n",
       "      <td>7.115941</td>\n",
       "      <td>0.335194</td>\n",
       "      <td>-3.712170</td>\n",
       "      <td>-1.174594</td>\n",
       "    </tr>\n",
       "    <tr>\n",
       "      <th>782</th>\n",
       "      <td>-4.945999</td>\n",
       "      <td>2.810188</td>\n",
       "      <td>-0.201254</td>\n",
       "      <td>1.332125</td>\n",
       "      <td>0.690305</td>\n",
       "      <td>-0.466391</td>\n",
       "    </tr>\n",
       "    <tr>\n",
       "      <th>783</th>\n",
       "      <td>-8.786163</td>\n",
       "      <td>-4.718341</td>\n",
       "      <td>-1.904786</td>\n",
       "      <td>0.743123</td>\n",
       "      <td>-1.292748</td>\n",
       "      <td>0.405779</td>\n",
       "    </tr>\n",
       "    <tr>\n",
       "      <th>784</th>\n",
       "      <td>-9.100060</td>\n",
       "      <td>-4.097311</td>\n",
       "      <td>-0.401057</td>\n",
       "      <td>-1.330022</td>\n",
       "      <td>-0.139797</td>\n",
       "      <td>0.065951</td>\n",
       "    </tr>\n",
       "    <tr>\n",
       "      <th>785</th>\n",
       "      <td>-7.041628</td>\n",
       "      <td>-0.563494</td>\n",
       "      <td>-5.305785</td>\n",
       "      <td>1.381844</td>\n",
       "      <td>0.177573</td>\n",
       "      <td>-0.483918</td>\n",
       "    </tr>\n",
       "    <tr>\n",
       "      <th>786</th>\n",
       "      <td>-7.747804</td>\n",
       "      <td>-3.683301</td>\n",
       "      <td>-3.666841</td>\n",
       "      <td>0.527355</td>\n",
       "      <td>0.242253</td>\n",
       "      <td>-0.306830</td>\n",
       "    </tr>\n",
       "    <tr>\n",
       "      <th>787</th>\n",
       "      <td>-9.093801</td>\n",
       "      <td>-1.620152</td>\n",
       "      <td>-1.492305</td>\n",
       "      <td>0.792768</td>\n",
       "      <td>-0.969740</td>\n",
       "      <td>-0.173005</td>\n",
       "    </tr>\n",
       "    <tr>\n",
       "      <th>788</th>\n",
       "      <td>-9.181745</td>\n",
       "      <td>14.600368</td>\n",
       "      <td>3.208080</td>\n",
       "      <td>0.920360</td>\n",
       "      <td>0.603480</td>\n",
       "      <td>-0.904304</td>\n",
       "    </tr>\n",
       "    <tr>\n",
       "      <th>789</th>\n",
       "      <td>-7.152851</td>\n",
       "      <td>10.292397</td>\n",
       "      <td>1.029913</td>\n",
       "      <td>-0.977854</td>\n",
       "      <td>0.336665</td>\n",
       "      <td>0.791901</td>\n",
       "    </tr>\n",
       "    <tr>\n",
       "      <th>790</th>\n",
       "      <td>-10.230776</td>\n",
       "      <td>8.544052</td>\n",
       "      <td>2.300210</td>\n",
       "      <td>0.829524</td>\n",
       "      <td>-0.803270</td>\n",
       "      <td>0.490677</td>\n",
       "    </tr>\n",
       "    <tr>\n",
       "      <th>791</th>\n",
       "      <td>-3.569956</td>\n",
       "      <td>1.227222</td>\n",
       "      <td>1.093524</td>\n",
       "      <td>-1.395690</td>\n",
       "      <td>0.042718</td>\n",
       "      <td>0.635802</td>\n",
       "    </tr>\n",
       "    <tr>\n",
       "      <th>792</th>\n",
       "      <td>-2.978037</td>\n",
       "      <td>0.747810</td>\n",
       "      <td>2.711076</td>\n",
       "      <td>-1.194788</td>\n",
       "      <td>-0.038015</td>\n",
       "      <td>0.489953</td>\n",
       "    </tr>\n",
       "    <tr>\n",
       "      <th>793</th>\n",
       "      <td>-6.678156</td>\n",
       "      <td>-6.230574</td>\n",
       "      <td>-1.629008</td>\n",
       "      <td>0.334921</td>\n",
       "      <td>-0.336979</td>\n",
       "      <td>0.384582</td>\n",
       "    </tr>\n",
       "    <tr>\n",
       "      <th>794</th>\n",
       "      <td>-9.818899</td>\n",
       "      <td>3.001656</td>\n",
       "      <td>-3.742135</td>\n",
       "      <td>-0.373571</td>\n",
       "      <td>0.114315</td>\n",
       "      <td>-0.590125</td>\n",
       "    </tr>\n",
       "    <tr>\n",
       "      <th>795</th>\n",
       "      <td>-6.744152</td>\n",
       "      <td>11.212503</td>\n",
       "      <td>3.844514</td>\n",
       "      <td>-1.034595</td>\n",
       "      <td>-0.352228</td>\n",
       "      <td>-0.229576</td>\n",
       "    </tr>\n",
       "    <tr>\n",
       "      <th>796</th>\n",
       "      <td>-6.583148</td>\n",
       "      <td>2.587479</td>\n",
       "      <td>4.372706</td>\n",
       "      <td>0.779828</td>\n",
       "      <td>-1.807110</td>\n",
       "      <td>-0.404036</td>\n",
       "    </tr>\n",
       "    <tr>\n",
       "      <th>797</th>\n",
       "      <td>-8.329808</td>\n",
       "      <td>-0.934493</td>\n",
       "      <td>-1.264736</td>\n",
       "      <td>0.799953</td>\n",
       "      <td>0.757531</td>\n",
       "      <td>0.664899</td>\n",
       "    </tr>\n",
       "    <tr>\n",
       "      <th>798</th>\n",
       "      <td>-7.791168</td>\n",
       "      <td>2.038433</td>\n",
       "      <td>1.256284</td>\n",
       "      <td>1.817180</td>\n",
       "      <td>0.353125</td>\n",
       "      <td>0.560654</td>\n",
       "    </tr>\n",
       "    <tr>\n",
       "      <th>799</th>\n",
       "      <td>-4.861004</td>\n",
       "      <td>1.103591</td>\n",
       "      <td>4.225040</td>\n",
       "      <td>-2.124752</td>\n",
       "      <td>-0.580693</td>\n",
       "      <td>0.038323</td>\n",
       "    </tr>\n",
       "  </tbody>\n",
       "</table>\n",
       "<p>800 rows × 6 columns</p>\n",
       "</div>"
      ],
      "text/plain": [
       "     PCA_error 2  PCA_error 4  PCA_error 10  PCA_error 30  PCA_error 40  \\\n",
       "0       5.683583     5.518487     -0.084779      0.108612      1.829524   \n",
       "1      -0.374035   -10.297705     -1.911580     -0.386091     -0.800229   \n",
       "2       5.357829    -8.802455      2.777834      2.852458     -0.246718   \n",
       "3      -1.774084    -7.131384     -2.135289      0.549057      0.822185   \n",
       "4       1.326617    -3.456369     -1.678020     -0.606362      3.744865   \n",
       "5       2.491792    -6.914080     -2.495471     -0.906910      0.603880   \n",
       "6      -1.486366   -12.474246     -1.011473      0.946952      1.608626   \n",
       "7      -0.630172    -8.606806     -2.258615      0.555447      0.966869   \n",
       "8       1.371449     0.062545      2.312362      2.589447      0.552042   \n",
       "9       0.062540    -9.214419     -0.195657      1.163665      0.974700   \n",
       "10      4.344653     8.329241     -2.435843      1.762658      0.689262   \n",
       "11      9.461571    -0.958966      3.634694     -1.761737     -1.815335   \n",
       "12     -1.070191   -10.485395      0.491176      1.327501      0.598108   \n",
       "13      3.497977     2.977379      0.491009      0.303420      2.189157   \n",
       "14      0.410270    -7.076121      0.479383      0.245428     -0.608422   \n",
       "15     11.176409     9.674286      0.082727      1.139405     -0.431241   \n",
       "16     10.293269     4.205681      3.149734      0.385399     -2.119327   \n",
       "17      4.424642    -0.494466     -1.178796      1.371038     -0.766443   \n",
       "18      9.239414    -1.517626      4.308351     -0.866446     -3.053031   \n",
       "19      8.481877     4.387936      0.580562     -0.760732     -1.663124   \n",
       "20     10.426503     1.655970      1.406069     -0.416944     -1.952883   \n",
       "21      3.111865    -7.231131      0.619109      2.508050     -1.967065   \n",
       "22      7.516417     5.694354     -0.143385      0.370761     -0.475948   \n",
       "23     10.473378    10.231446      0.176143     -1.223755     -0.249655   \n",
       "24     -1.382521   -12.982150     -2.002216      1.430307      0.004013   \n",
       "25      5.429403     3.116296     -0.891478      1.510818     -1.653523   \n",
       "26     15.504581    -2.039889     -4.035426      3.335902      0.000690   \n",
       "27      3.109290    -9.318969      0.970068      1.068364     -0.730184   \n",
       "28      5.006776    -0.210217     -2.210291      1.319067     -1.074940   \n",
       "29      9.487209     9.132746      1.180740      0.738620     -1.433406   \n",
       "..           ...          ...           ...           ...           ...   \n",
       "770    -4.707842    -4.416675      1.773966     -1.715304     -1.614193   \n",
       "771    -6.426753    -1.676847      1.130698     -0.263559      0.829164   \n",
       "772    -4.528870     6.349691      5.852827     -0.425479     -3.980035   \n",
       "773    -2.765770    -3.441561     -0.685170      0.411562      0.193599   \n",
       "774    -7.366819    -4.555850      3.967086     -0.215326     -1.499479   \n",
       "775    -9.299231     1.029924      4.515130     -0.593972     -1.123123   \n",
       "776    -9.864710    -4.136435      3.054511     -0.380291     -1.536136   \n",
       "777    -4.723952     6.538936      1.384176     -0.044216      0.615465   \n",
       "778    -5.709170    -3.673232      3.375950      0.018414     -0.986388   \n",
       "779    -2.890269     1.279059      0.022190     -0.300451      0.192233   \n",
       "780    -3.773039     3.532499     -1.138262     -0.666552      0.193173   \n",
       "781    -4.255737    12.024994      7.115941      0.335194     -3.712170   \n",
       "782    -4.945999     2.810188     -0.201254      1.332125      0.690305   \n",
       "783    -8.786163    -4.718341     -1.904786      0.743123     -1.292748   \n",
       "784    -9.100060    -4.097311     -0.401057     -1.330022     -0.139797   \n",
       "785    -7.041628    -0.563494     -5.305785      1.381844      0.177573   \n",
       "786    -7.747804    -3.683301     -3.666841      0.527355      0.242253   \n",
       "787    -9.093801    -1.620152     -1.492305      0.792768     -0.969740   \n",
       "788    -9.181745    14.600368      3.208080      0.920360      0.603480   \n",
       "789    -7.152851    10.292397      1.029913     -0.977854      0.336665   \n",
       "790   -10.230776     8.544052      2.300210      0.829524     -0.803270   \n",
       "791    -3.569956     1.227222      1.093524     -1.395690      0.042718   \n",
       "792    -2.978037     0.747810      2.711076     -1.194788     -0.038015   \n",
       "793    -6.678156    -6.230574     -1.629008      0.334921     -0.336979   \n",
       "794    -9.818899     3.001656     -3.742135     -0.373571      0.114315   \n",
       "795    -6.744152    11.212503      3.844514     -1.034595     -0.352228   \n",
       "796    -6.583148     2.587479      4.372706      0.779828     -1.807110   \n",
       "797    -8.329808    -0.934493     -1.264736      0.799953      0.757531   \n",
       "798    -7.791168     2.038433      1.256284      1.817180      0.353125   \n",
       "799    -4.861004     1.103591      4.225040     -2.124752     -0.580693   \n",
       "\n",
       "     PCA_error 256  \n",
       "0         0.527108  \n",
       "1         0.307897  \n",
       "2         0.867662  \n",
       "3         0.675191  \n",
       "4         0.804409  \n",
       "5         0.440047  \n",
       "6         0.727092  \n",
       "7         0.709906  \n",
       "8         1.059305  \n",
       "9         0.316422  \n",
       "10        0.129219  \n",
       "11        0.751436  \n",
       "12        0.984529  \n",
       "13        0.070807  \n",
       "14        0.555247  \n",
       "15       -0.383063  \n",
       "16       -0.188669  \n",
       "17        1.143109  \n",
       "18        0.599277  \n",
       "19        0.532617  \n",
       "20        0.571117  \n",
       "21        0.713642  \n",
       "22       -0.984248  \n",
       "23        0.146926  \n",
       "24        0.645617  \n",
       "25        0.145162  \n",
       "26       -0.248135  \n",
       "27        1.359731  \n",
       "28        0.742956  \n",
       "29       -0.980764  \n",
       "..             ...  \n",
       "770       0.318790  \n",
       "771       0.205326  \n",
       "772       0.635328  \n",
       "773       0.463899  \n",
       "774       0.771777  \n",
       "775       0.426653  \n",
       "776       0.315312  \n",
       "777       0.376244  \n",
       "778       0.498020  \n",
       "779      -0.123902  \n",
       "780       0.337696  \n",
       "781      -1.174594  \n",
       "782      -0.466391  \n",
       "783       0.405779  \n",
       "784       0.065951  \n",
       "785      -0.483918  \n",
       "786      -0.306830  \n",
       "787      -0.173005  \n",
       "788      -0.904304  \n",
       "789       0.791901  \n",
       "790       0.490677  \n",
       "791       0.635802  \n",
       "792       0.489953  \n",
       "793       0.384582  \n",
       "794      -0.590125  \n",
       "795      -0.229576  \n",
       "796      -0.404036  \n",
       "797       0.664899  \n",
       "798       0.560654  \n",
       "799       0.038323  \n",
       "\n",
       "[800 rows x 6 columns]"
      ]
     },
     "execution_count": 72,
     "metadata": {},
     "output_type": "execute_result"
    }
   ],
   "source": [
    "New_df  #Jus tried to see error by getting the difference between original PCA transformed data and inverse transformed data"
   ]
  },
  {
   "cell_type": "markdown",
   "metadata": {},
   "source": [
    "# Remaining continued in Assignment_8(2)"
   ]
  },
  {
   "cell_type": "code",
   "execution_count": null,
   "metadata": {},
   "outputs": [],
   "source": []
  }
 ],
 "metadata": {
  "kernelspec": {
   "display_name": "Python 3",
   "language": "python",
   "name": "python3"
  },
  "language_info": {
   "codemirror_mode": {
    "name": "ipython",
    "version": 3
   },
   "file_extension": ".py",
   "mimetype": "text/x-python",
   "name": "python",
   "nbconvert_exporter": "python",
   "pygments_lexer": "ipython3",
   "version": "3.7.3"
  }
 },
 "nbformat": 4,
 "nbformat_minor": 2
}
