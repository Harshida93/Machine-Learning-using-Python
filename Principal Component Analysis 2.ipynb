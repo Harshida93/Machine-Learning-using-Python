{
 "cells": [
  {
   "cell_type": "code",
   "execution_count": 43,
   "metadata": {},
   "outputs": [],
   "source": [
    "import pandas as pd"
   ]
  },
  {
   "cell_type": "code",
   "execution_count": 44,
   "metadata": {},
   "outputs": [],
   "source": [
    "data=pd.read_csv('Data.csv')"
   ]
  },
  {
   "cell_type": "code",
   "execution_count": 45,
   "metadata": {},
   "outputs": [],
   "source": [
    "X=data.drop(['gnd'],axis=1)\n",
    "y=data['gnd']"
   ]
  },
  {
   "cell_type": "code",
   "execution_count": 77,
   "metadata": {},
   "outputs": [],
   "source": [
    "from sklearn.model_selection import train_test_split\n",
    "from sklearn.feature_selection import VarianceThreshold\n",
    "Variance=VarianceThreshold(0.4)\n",
    "best_fit=Variance.fit_transform(X_train,y_train)"
   ]
  },
  {
   "cell_type": "code",
   "execution_count": 78,
   "metadata": {},
   "outputs": [],
   "source": [
    "X_train,X_test,y_train,y_test=train_test_split(X,y,test_size=0.3,random_state=42)"
   ]
  },
  {
   "cell_type": "code",
   "execution_count": 79,
   "metadata": {},
   "outputs": [],
   "source": [
    "X_selected_features=Variance.transform(X_train)\n",
    "X_test_selected=Variance.transform(X_test)"
   ]
  },
  {
   "cell_type": "code",
   "execution_count": 84,
   "metadata": {},
   "outputs": [
    {
     "name": "stdout",
     "output_type": "stream",
     "text": [
      "(560, 2)\n",
      "[9.99602169e-01 2.10927116e-04]\n",
      "(560, 4)\n",
      "[9.99602169e-01 2.10927116e-04 4.72984653e-05 2.89822411e-05]\n",
      "(560, 10)\n",
      "[9.99602169e-01 2.10927116e-04 4.72984653e-05 2.89822411e-05\n",
      " 1.69581460e-05 1.54244714e-05 1.17161256e-05 1.09384235e-05\n",
      " 9.27708754e-06 8.28257735e-06]\n",
      "(560, 30)\n",
      "[9.99602169e-01 2.10927116e-04 4.72984653e-05 2.89822411e-05\n",
      " 1.69581460e-05 1.54244714e-05 1.17161257e-05 1.09384235e-05\n",
      " 9.27708760e-06 8.28257772e-06 6.09451158e-06 4.97405621e-06\n",
      " 3.89391114e-06 2.95585799e-06 2.76494957e-06 2.25247809e-06\n",
      " 2.01528210e-06 1.81146046e-06 1.62453259e-06 1.47365553e-06\n",
      " 1.18069300e-06 1.01274495e-06 8.80916904e-07 7.83476318e-07\n",
      " 6.10723728e-07 5.43843186e-07 4.57691854e-07 3.92507549e-07\n",
      " 3.47962324e-07 2.90986343e-07]\n",
      "(560, 40)\n",
      "[9.99602169e-01 2.10927116e-04 4.72984653e-05 2.89822411e-05\n",
      " 1.69581460e-05 1.54244714e-05 1.17161257e-05 1.09384235e-05\n",
      " 9.27708760e-06 8.28257772e-06 6.09451158e-06 4.97405621e-06\n",
      " 3.89391114e-06 2.95585799e-06 2.76494957e-06 2.25247809e-06\n",
      " 2.01528210e-06 1.81146046e-06 1.62453259e-06 1.47365553e-06\n",
      " 1.18069300e-06 1.01274495e-06 8.80916904e-07 7.83476318e-07\n",
      " 6.10723728e-07 5.43843186e-07 4.57691857e-07 3.92507550e-07\n",
      " 3.47962341e-07 2.90986451e-07 2.45969149e-07 2.11960228e-07\n",
      " 1.89197899e-07 1.69913675e-07 1.55204897e-07 1.30419949e-07\n",
      " 1.16277972e-07 7.58311316e-08 6.54732349e-08 5.55601896e-08]\n"
     ]
    }
   ],
   "source": [
    "import numpy as np\n",
    "from sklearn.decomposition import PCA\n",
    "#X = np.array([[-1, -1], [-2, -1], [-3, -2], [1, 1], [2, 1], [3, 2]])\n",
    "\n",
    "#print(X_train.shape)\n",
    "#Var_list=[]\n",
    "for i in (2,4,10,30,40):\n",
    "    pca = PCA(n_components=i)\n",
    "    fit=pca.fit(X_selected_features)\n",
    "    \n",
    "    X_transform = fit.transform(X_selected_features)\n",
    "    print (X_transform.shape)\n",
    "    print(pca.explained_variance_ratio_) \n",
    "\n",
    "#print(pca.singular_values_)  \n",
    "\n",
    "# from sklearn.decomposition import PCA\n",
    "# for i in range(5):\n",
    "#     pca = PCA(n_components=i)\n",
    "#     X_train = pca.fit(X_train)\n",
    "# #     X_train = pca.transform(X_train)\n",
    "# #     X_test = pca.transform(X_test)\n",
    "# #     #print(X_train.shape)"
   ]
  },
  {
   "cell_type": "code",
   "execution_count": 54,
   "metadata": {},
   "outputs": [
    {
     "name": "stderr",
     "output_type": "stream",
     "text": [
      "/anaconda3/lib/python3.7/site-packages/sklearn/ensemble/forest.py:246: FutureWarning: The default value of n_estimators will change from 10 in version 0.20 to 100 in 0.22.\n",
      "  \"10 in version 0.20 to 100 in 0.22.\", FutureWarning)\n"
     ]
    }
   ],
   "source": [
    "from sklearn.ensemble import RandomForestClassifier\n",
    "\n",
    "classifier = RandomForestClassifier(max_depth=2, random_state=0)\n",
    "classifier.fit(X_train, y_train)\n",
    "\n",
    "# Predicting the Test set results\n",
    "y_pred = classifier.predict(X_test)"
   ]
  },
  {
   "cell_type": "code",
   "execution_count": null,
   "metadata": {},
   "outputs": [],
   "source": []
  },
  {
   "cell_type": "code",
   "execution_count": 41,
   "metadata": {},
   "outputs": [
    {
     "name": "stdout",
     "output_type": "stream",
     "text": [
      "[[62  0  0  0]\n",
      " [ 0 62  0  1]\n",
      " [ 0  0 43  8]\n",
      " [ 0  0 25 39]]\n"
     ]
    },
    {
     "data": {
      "text/plain": [
       "0.8583333333333333"
      ]
     },
     "execution_count": 41,
     "metadata": {},
     "output_type": "execute_result"
    }
   ],
   "source": [
    "from sklearn.metrics import confusion_matrix\n",
    "from sklearn.metrics import accuracy_score\n",
    "\n",
    "cm = confusion_matrix(y_test, y_pred)\n",
    "print(cm)\n",
    "accuracy_score(y_test, y_pred)"
   ]
  },
  {
   "cell_type": "code",
   "execution_count": 42,
   "metadata": {},
   "outputs": [
    {
     "data": {
      "text/html": [
       "<div>\n",
       "<style scoped>\n",
       "    .dataframe tbody tr th:only-of-type {\n",
       "        vertical-align: middle;\n",
       "    }\n",
       "\n",
       "    .dataframe tbody tr th {\n",
       "        vertical-align: top;\n",
       "    }\n",
       "\n",
       "    .dataframe thead th {\n",
       "        text-align: right;\n",
       "    }\n",
       "</style>\n",
       "<table border=\"1\" class=\"dataframe\">\n",
       "  <thead>\n",
       "    <tr style=\"text-align: right;\">\n",
       "      <th></th>\n",
       "      <th>0</th>\n",
       "    </tr>\n",
       "  </thead>\n",
       "  <tbody>\n",
       "    <tr>\n",
       "      <th>0</th>\n",
       "      <td>9.987795e-01</td>\n",
       "    </tr>\n",
       "    <tr>\n",
       "      <th>1</th>\n",
       "      <td>4.347666e-04</td>\n",
       "    </tr>\n",
       "    <tr>\n",
       "      <th>2</th>\n",
       "      <td>1.343962e-04</td>\n",
       "    </tr>\n",
       "    <tr>\n",
       "      <th>3</th>\n",
       "      <td>1.031302e-04</td>\n",
       "    </tr>\n",
       "    <tr>\n",
       "      <th>4</th>\n",
       "      <td>7.414140e-05</td>\n",
       "    </tr>\n",
       "    <tr>\n",
       "      <th>5</th>\n",
       "      <td>6.285339e-05</td>\n",
       "    </tr>\n",
       "    <tr>\n",
       "      <th>6</th>\n",
       "      <td>4.412863e-05</td>\n",
       "    </tr>\n",
       "    <tr>\n",
       "      <th>7</th>\n",
       "      <td>3.868101e-05</td>\n",
       "    </tr>\n",
       "    <tr>\n",
       "      <th>8</th>\n",
       "      <td>3.153430e-05</td>\n",
       "    </tr>\n",
       "    <tr>\n",
       "      <th>9</th>\n",
       "      <td>2.723094e-05</td>\n",
       "    </tr>\n",
       "    <tr>\n",
       "      <th>10</th>\n",
       "      <td>2.376876e-05</td>\n",
       "    </tr>\n",
       "    <tr>\n",
       "      <th>11</th>\n",
       "      <td>2.206170e-05</td>\n",
       "    </tr>\n",
       "    <tr>\n",
       "      <th>12</th>\n",
       "      <td>1.784660e-05</td>\n",
       "    </tr>\n",
       "    <tr>\n",
       "      <th>13</th>\n",
       "      <td>1.603596e-05</td>\n",
       "    </tr>\n",
       "    <tr>\n",
       "      <th>14</th>\n",
       "      <td>1.446098e-05</td>\n",
       "    </tr>\n",
       "    <tr>\n",
       "      <th>15</th>\n",
       "      <td>1.326983e-05</td>\n",
       "    </tr>\n",
       "    <tr>\n",
       "      <th>16</th>\n",
       "      <td>1.203228e-05</td>\n",
       "    </tr>\n",
       "    <tr>\n",
       "      <th>17</th>\n",
       "      <td>1.157268e-05</td>\n",
       "    </tr>\n",
       "    <tr>\n",
       "      <th>18</th>\n",
       "      <td>9.433171e-06</td>\n",
       "    </tr>\n",
       "    <tr>\n",
       "      <th>19</th>\n",
       "      <td>8.965867e-06</td>\n",
       "    </tr>\n",
       "    <tr>\n",
       "      <th>20</th>\n",
       "      <td>8.415798e-06</td>\n",
       "    </tr>\n",
       "    <tr>\n",
       "      <th>21</th>\n",
       "      <td>7.584163e-06</td>\n",
       "    </tr>\n",
       "    <tr>\n",
       "      <th>22</th>\n",
       "      <td>7.129068e-06</td>\n",
       "    </tr>\n",
       "    <tr>\n",
       "      <th>23</th>\n",
       "      <td>6.388544e-06</td>\n",
       "    </tr>\n",
       "    <tr>\n",
       "      <th>24</th>\n",
       "      <td>5.829281e-06</td>\n",
       "    </tr>\n",
       "    <tr>\n",
       "      <th>25</th>\n",
       "      <td>5.705925e-06</td>\n",
       "    </tr>\n",
       "    <tr>\n",
       "      <th>26</th>\n",
       "      <td>5.272161e-06</td>\n",
       "    </tr>\n",
       "    <tr>\n",
       "      <th>27</th>\n",
       "      <td>5.198370e-06</td>\n",
       "    </tr>\n",
       "    <tr>\n",
       "      <th>28</th>\n",
       "      <td>4.144882e-06</td>\n",
       "    </tr>\n",
       "    <tr>\n",
       "      <th>29</th>\n",
       "      <td>4.056361e-06</td>\n",
       "    </tr>\n",
       "    <tr>\n",
       "      <th>...</th>\n",
       "      <td>...</td>\n",
       "    </tr>\n",
       "    <tr>\n",
       "      <th>226</th>\n",
       "      <td>2.350532e-10</td>\n",
       "    </tr>\n",
       "    <tr>\n",
       "      <th>227</th>\n",
       "      <td>2.267728e-10</td>\n",
       "    </tr>\n",
       "    <tr>\n",
       "      <th>228</th>\n",
       "      <td>2.087731e-10</td>\n",
       "    </tr>\n",
       "    <tr>\n",
       "      <th>229</th>\n",
       "      <td>1.792446e-10</td>\n",
       "    </tr>\n",
       "    <tr>\n",
       "      <th>230</th>\n",
       "      <td>1.726703e-10</td>\n",
       "    </tr>\n",
       "    <tr>\n",
       "      <th>231</th>\n",
       "      <td>1.721880e-10</td>\n",
       "    </tr>\n",
       "    <tr>\n",
       "      <th>232</th>\n",
       "      <td>1.514429e-10</td>\n",
       "    </tr>\n",
       "    <tr>\n",
       "      <th>233</th>\n",
       "      <td>1.409317e-10</td>\n",
       "    </tr>\n",
       "    <tr>\n",
       "      <th>234</th>\n",
       "      <td>1.309105e-10</td>\n",
       "    </tr>\n",
       "    <tr>\n",
       "      <th>235</th>\n",
       "      <td>1.155749e-10</td>\n",
       "    </tr>\n",
       "    <tr>\n",
       "      <th>236</th>\n",
       "      <td>1.015111e-10</td>\n",
       "    </tr>\n",
       "    <tr>\n",
       "      <th>237</th>\n",
       "      <td>9.799455e-11</td>\n",
       "    </tr>\n",
       "    <tr>\n",
       "      <th>238</th>\n",
       "      <td>8.780741e-11</td>\n",
       "    </tr>\n",
       "    <tr>\n",
       "      <th>239</th>\n",
       "      <td>8.264941e-11</td>\n",
       "    </tr>\n",
       "    <tr>\n",
       "      <th>240</th>\n",
       "      <td>7.134540e-11</td>\n",
       "    </tr>\n",
       "    <tr>\n",
       "      <th>241</th>\n",
       "      <td>6.680479e-11</td>\n",
       "    </tr>\n",
       "    <tr>\n",
       "      <th>242</th>\n",
       "      <td>6.033299e-11</td>\n",
       "    </tr>\n",
       "    <tr>\n",
       "      <th>243</th>\n",
       "      <td>5.502450e-11</td>\n",
       "    </tr>\n",
       "    <tr>\n",
       "      <th>244</th>\n",
       "      <td>4.513119e-11</td>\n",
       "    </tr>\n",
       "    <tr>\n",
       "      <th>245</th>\n",
       "      <td>4.021538e-11</td>\n",
       "    </tr>\n",
       "    <tr>\n",
       "      <th>246</th>\n",
       "      <td>3.467459e-11</td>\n",
       "    </tr>\n",
       "    <tr>\n",
       "      <th>247</th>\n",
       "      <td>3.137534e-11</td>\n",
       "    </tr>\n",
       "    <tr>\n",
       "      <th>248</th>\n",
       "      <td>2.379639e-11</td>\n",
       "    </tr>\n",
       "    <tr>\n",
       "      <th>249</th>\n",
       "      <td>1.966711e-11</td>\n",
       "    </tr>\n",
       "    <tr>\n",
       "      <th>250</th>\n",
       "      <td>1.674067e-11</td>\n",
       "    </tr>\n",
       "    <tr>\n",
       "      <th>251</th>\n",
       "      <td>1.318711e-11</td>\n",
       "    </tr>\n",
       "    <tr>\n",
       "      <th>252</th>\n",
       "      <td>7.422469e-12</td>\n",
       "    </tr>\n",
       "    <tr>\n",
       "      <th>253</th>\n",
       "      <td>1.299927e-12</td>\n",
       "    </tr>\n",
       "    <tr>\n",
       "      <th>254</th>\n",
       "      <td>4.968039e-19</td>\n",
       "    </tr>\n",
       "    <tr>\n",
       "      <th>255</th>\n",
       "      <td>3.477801e-19</td>\n",
       "    </tr>\n",
       "  </tbody>\n",
       "</table>\n",
       "<p>256 rows × 1 columns</p>\n",
       "</div>"
      ],
      "text/plain": [
       "                0\n",
       "0    9.987795e-01\n",
       "1    4.347666e-04\n",
       "2    1.343962e-04\n",
       "3    1.031302e-04\n",
       "4    7.414140e-05\n",
       "5    6.285339e-05\n",
       "6    4.412863e-05\n",
       "7    3.868101e-05\n",
       "8    3.153430e-05\n",
       "9    2.723094e-05\n",
       "10   2.376876e-05\n",
       "11   2.206170e-05\n",
       "12   1.784660e-05\n",
       "13   1.603596e-05\n",
       "14   1.446098e-05\n",
       "15   1.326983e-05\n",
       "16   1.203228e-05\n",
       "17   1.157268e-05\n",
       "18   9.433171e-06\n",
       "19   8.965867e-06\n",
       "20   8.415798e-06\n",
       "21   7.584163e-06\n",
       "22   7.129068e-06\n",
       "23   6.388544e-06\n",
       "24   5.829281e-06\n",
       "25   5.705925e-06\n",
       "26   5.272161e-06\n",
       "27   5.198370e-06\n",
       "28   4.144882e-06\n",
       "29   4.056361e-06\n",
       "..            ...\n",
       "226  2.350532e-10\n",
       "227  2.267728e-10\n",
       "228  2.087731e-10\n",
       "229  1.792446e-10\n",
       "230  1.726703e-10\n",
       "231  1.721880e-10\n",
       "232  1.514429e-10\n",
       "233  1.409317e-10\n",
       "234  1.309105e-10\n",
       "235  1.155749e-10\n",
       "236  1.015111e-10\n",
       "237  9.799455e-11\n",
       "238  8.780741e-11\n",
       "239  8.264941e-11\n",
       "240  7.134540e-11\n",
       "241  6.680479e-11\n",
       "242  6.033299e-11\n",
       "243  5.502450e-11\n",
       "244  4.513119e-11\n",
       "245  4.021538e-11\n",
       "246  3.467459e-11\n",
       "247  3.137534e-11\n",
       "248  2.379639e-11\n",
       "249  1.966711e-11\n",
       "250  1.674067e-11\n",
       "251  1.318711e-11\n",
       "252  7.422469e-12\n",
       "253  1.299927e-12\n",
       "254  4.968039e-19\n",
       "255  3.477801e-19\n",
       "\n",
       "[256 rows x 1 columns]"
      ]
     },
     "execution_count": 42,
     "metadata": {},
     "output_type": "execute_result"
    }
   ],
   "source": [
    "df=pd.DataFrame(pca.explained_variance_ratio_)\n",
    "df"
   ]
  },
  {
   "cell_type": "markdown",
   "metadata": {},
   "source": [
    "This gives the change in variance from the 1st PCA componentto 256th PCA component.\n",
    "We can clearly see that there is 99.87% variance captured in 1st PCA component and drops to 4% in second PCA component and gradually decreases from there on."
   ]
  },
  {
   "cell_type": "code",
   "execution_count": 43,
   "metadata": {},
   "outputs": [],
   "source": [
    "import matplotlib.pyplot as plt\n",
    "import seaborn as sns"
   ]
  },
  {
   "cell_type": "code",
   "execution_count": 51,
   "metadata": {},
   "outputs": [
    {
     "data": {
      "text/plain": [
       "Text(0.5, 1.0, 'Variance vs PCA')"
      ]
     },
     "execution_count": 51,
     "metadata": {},
     "output_type": "execute_result"
    },
    {
     "data": {
      "image/png": "[encoded data removed]",
      "text/plain": [
       "<Figure size 432x288 with 1 Axes>"
      ]
     },
     "metadata": {
      "needs_background": "light"
     },
     "output_type": "display_data"
    }
   ],
   "source": [
    "#plt.hist(df[0],bins=10)\n",
    "#plt.xlim(0.0,1.0)\n",
    "\n",
    "X=['PCA_2','PCA_4','PCA_10','PCA_30','PCA_40','PCA_256']\n",
    "Y=([4.347666e-04*1000,1.031302e-04*1000,2.723094e-05*1000,4.056361e-06*1000,2.158321e-06*1000,3.477801e-19*1000])\n",
    "sns.barplot(X,Y).set_title(\"Variance vs PCA\")\n"
   ]
  },
  {
   "cell_type": "markdown",
   "metadata": {},
   "source": [
    "Percentage of variance captured decreases with increase in the number of PCA components.PCA with 2 components \n",
    "captures the maximum variance."
   ]
  },
  {
   "cell_type": "code",
   "execution_count": 45,
   "metadata": {},
   "outputs": [],
   "source": [
    "Accuracy_score={'PCA2':0.8375,'PCA4':0.9958,'PCA10':0.9625,'PCA30':0.9250,'PCA40':0.9458,'PCA256':0.8583}\n",
    "Accuracy_score\n",
    "Colums=['PCA2','PCA4','PCA10','PCA30','PCA40','PCA256']\n",
    "y=[0.8375,0.9958,0.9625,0.9250,0.9458,0.8583]"
   ]
  },
  {
   "cell_type": "code",
   "execution_count": 46,
   "metadata": {},
   "outputs": [
    {
     "data": {
      "text/plain": [
       "Text(0.5, 1.0, 'Accuracy of various PCA components')"
      ]
     },
     "execution_count": 46,
     "metadata": {},
     "output_type": "execute_result"
    },
    {
     "data": {
      "image/png": "[encoded data removed]",
      "text/plain": [
       "<Figure size 432x288 with 1 Axes>"
      ]
     },
     "metadata": {
      "needs_background": "light"
     },
     "output_type": "display_data"
    }
   ],
   "source": [
    "sns.barplot(Colums,y).set_title('Accuracy of various PCA components')"
   ]
  },
  {
   "cell_type": "markdown",
   "metadata": {},
   "source": [
    "The accuracy of each PCA component remains more or less the same on training the PCA transformed dataset in RandomForest clsssifier."
   ]
  },
  {
   "cell_type": "code",
   "execution_count": null,
   "metadata": {},
   "outputs": [],
   "source": []
  }
 ],
 "metadata": {
  "kernelspec": {
   "display_name": "Python 3",
   "language": "python",
   "name": "python3"
  },
  "language_info": {
   "codemirror_mode": {
    "name": "ipython",
    "version": 3
   },
   "file_extension": ".py",
   "mimetype": "text/x-python",
   "name": "python",
   "nbconvert_exporter": "python",
   "pygments_lexer": "ipython3",
   "version": "3.7.3"
  }
 },
 "nbformat": 4,
 "nbformat_minor": 2
}
